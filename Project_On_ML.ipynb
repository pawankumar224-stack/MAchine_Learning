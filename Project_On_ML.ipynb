{
 "cells": [
  {
   "cell_type": "markdown",
   "id": "85bfe247-d3b7-4705-aabc-e20f4069ccbc",
   "metadata": {},
   "source": [
    "# Machine Learning Project"
   ]
  },
  {
   "cell_type": "markdown",
   "id": "02a6122f-31c0-47ea-9764-97fdcb00bf0d",
   "metadata": {},
   "source": [
    "## Problem Statement :"
   ]
  },
  {
   "cell_type": "markdown",
   "id": "1670855c-6d8e-4dd3-8c34-0d7a177947fc",
   "metadata": {},
   "source": [
    "### Predicting Company Profit Based on Expenditure and State Information."
   ]
  },
  {
   "cell_type": "markdown",
   "id": "5ae55869-0c25-41c3-8030-753a9a18b9f1",
   "metadata": {},
   "source": [
    "### Objective :"
   ]
  },
  {
   "cell_type": "raw",
   "id": "8bd07432-44a6-4591-a648-cc591a3024da",
   "metadata": {},
   "source": [
    "The goal of this analysis is to build a predictive model that can accurately forecast a company's profit based on its expenditures in productivity,\n",
    "management, and promotions, as well as its state of operation. This model will aid in identifying the key drivers of profit and help companies optimize \n",
    "their budget allocations to maximize profitability."
   ]
  },
  {
   "cell_type": "markdown",
   "id": "3bd4ecba-049a-464f-a45d-1be3d29da446",
   "metadata": {},
   "source": [
    "## Importing Libraries and Loading Dataset :"
   ]
  },
  {
   "cell_type": "code",
   "execution_count": 1,
   "id": "4d2b6bdb-042b-449a-8522-1a4f6e743c4d",
   "metadata": {},
   "outputs": [],
   "source": [
    "import pandas as pd\n",
    "import numpy as np\n",
    "import matplotlib.pyplot as plt\n",
    "import seaborn as sb"
   ]
  },
  {
   "cell_type": "code",
   "execution_count": 2,
   "id": "e2aa7977-b972-42b5-9c1d-ef29a70c1dc7",
   "metadata": {},
   "outputs": [
    {
     "data": {
      "text/html": [
       "<div>\n",
       "<style scoped>\n",
       "    .dataframe tbody tr th:only-of-type {\n",
       "        vertical-align: middle;\n",
       "    }\n",
       "\n",
       "    .dataframe tbody tr th {\n",
       "        vertical-align: top;\n",
       "    }\n",
       "\n",
       "    .dataframe thead th {\n",
       "        text-align: right;\n",
       "    }\n",
       "</style>\n",
       "<table border=\"1\" class=\"dataframe\">\n",
       "  <thead>\n",
       "    <tr style=\"text-align: right;\">\n",
       "      <th></th>\n",
       "      <th>Productivity_Exp</th>\n",
       "      <th>Management_Exp</th>\n",
       "      <th>Promotions_Exp</th>\n",
       "      <th>State</th>\n",
       "      <th>Profit</th>\n",
       "    </tr>\n",
       "  </thead>\n",
       "  <tbody>\n",
       "    <tr>\n",
       "      <th>0</th>\n",
       "      <td>220349.20</td>\n",
       "      <td>236897.80</td>\n",
       "      <td>521784.10</td>\n",
       "      <td>Texas</td>\n",
       "      <td>242261.83</td>\n",
       "    </tr>\n",
       "    <tr>\n",
       "      <th>1</th>\n",
       "      <td>217597.70</td>\n",
       "      <td>251377.59</td>\n",
       "      <td>493898.53</td>\n",
       "      <td>Illinois</td>\n",
       "      <td>241792.06</td>\n",
       "    </tr>\n",
       "    <tr>\n",
       "      <th>2</th>\n",
       "      <td>208441.51</td>\n",
       "      <td>201145.55</td>\n",
       "      <td>457934.54</td>\n",
       "      <td>Washington</td>\n",
       "      <td>241050.39</td>\n",
       "    </tr>\n",
       "    <tr>\n",
       "      <th>3</th>\n",
       "      <td>199372.41</td>\n",
       "      <td>218671.85</td>\n",
       "      <td>433199.62</td>\n",
       "      <td>Texas</td>\n",
       "      <td>232901.99</td>\n",
       "    </tr>\n",
       "    <tr>\n",
       "      <th>4</th>\n",
       "      <td>197107.34</td>\n",
       "      <td>191391.77</td>\n",
       "      <td>416168.42</td>\n",
       "      <td>Washington</td>\n",
       "      <td>216187.94</td>\n",
       "    </tr>\n",
       "  </tbody>\n",
       "</table>\n",
       "</div>"
      ],
      "text/plain": [
       "   Productivity_Exp  Management_Exp  Promotions_Exp       State     Profit\n",
       "0         220349.20       236897.80       521784.10       Texas  242261.83\n",
       "1         217597.70       251377.59       493898.53    Illinois  241792.06\n",
       "2         208441.51       201145.55       457934.54  Washington  241050.39\n",
       "3         199372.41       218671.85       433199.62       Texas  232901.99\n",
       "4         197107.34       191391.77       416168.42  Washington  216187.94"
      ]
     },
     "execution_count": 2,
     "metadata": {},
     "output_type": "execute_result"
    }
   ],
   "source": [
    "# Loading the Companies dataset.\n",
    "comp = pd.read_csv(\"companies.csv\")\n",
    "comp.head()"
   ]
  },
  {
   "cell_type": "code",
   "execution_count": 33,
   "id": "791692ba-8946-4305-bd03-f641e1e21969",
   "metadata": {},
   "outputs": [
    {
     "data": {
      "text/plain": [
       "(50, 11)"
      ]
     },
     "execution_count": 33,
     "metadata": {},
     "output_type": "execute_result"
    }
   ],
   "source": [
    "comp.shape"
   ]
  },
  {
   "cell_type": "markdown",
   "id": "51eae43b-cd85-4716-9660-e227927c78ce",
   "metadata": {},
   "source": [
    "#### Total number of records present in the dataset are 50."
   ]
  },
  {
   "cell_type": "markdown",
   "id": "29bc093b-4100-48da-9859-532c3e64b48f",
   "metadata": {},
   "source": [
    "## Dataset Description :"
   ]
  },
  {
   "cell_type": "raw",
   "id": "4074165f-e526-4f4f-a342-c288210c63d7",
   "metadata": {},
   "source": [
    "The dataset consists of the following columns:\n",
    "Productivity_Exp: Amount spent on productivity-related expenses (in thousands of dollars).\n",
    "Management_Exp: Amount spent on management-related expenses (in thousands of dollars).\n",
    "Promotions_Exp: Amount spent on promotional activities (in thousands of dollars).\n",
    "State: The state in which the company operates.\n",
    "Profit: The profit of the company (in thousands of dollars)."
   ]
  },
  {
   "cell_type": "markdown",
   "id": "103eb09f-711c-437a-8e62-9af1450e7f08",
   "metadata": {},
   "source": [
    "## Initial Check-Up :"
   ]
  },
  {
   "cell_type": "code",
   "execution_count": 3,
   "id": "df854bfe-f5e0-402b-8300-3cb757bde980",
   "metadata": {},
   "outputs": [
    {
     "data": {
      "text/plain": [
       "array([220349.2 , 217597.7 , 208441.51, 199372.41, 197107.34, 186876.9 ,\n",
       "       189615.46, 185298.13, 175542.52, 178334.88, 156913.08, 155671.96,\n",
       "       148863.75, 146992.39, 174943.24, 169523.61, 133013.11, 149657.16,\n",
       "       146749.16, 141419.7 , 131253.86, 133389.47, 128994.56, 122532.53,\n",
       "       132044.01, 119664.71, 130328.87, 127107.6 , 121051.52, 120605.48,\n",
       "       116994.48, 116136.38, 118408.86, 110493.95, 101426.07, 101014.02,\n",
       "        83663.76,  99069.95,  75229.59,  93558.51,  83754.33,  82892.92,\n",
       "        78640.93,  70505.73,  77177.74,  56000.23,  56315.46,  55000.  ,\n",
       "        55542.05])"
      ]
     },
     "execution_count": 3,
     "metadata": {},
     "output_type": "execute_result"
    }
   ],
   "source": [
    "comp[\"Productivity_Exp\"].unique()"
   ]
  },
  {
   "cell_type": "markdown",
   "id": "0fb32ed8-8da9-4f3a-ad9b-d5dde65c35b3",
   "metadata": {},
   "source": [
    "#### The Productivity_Exp column is a Continuous Numerical Data."
   ]
  },
  {
   "cell_type": "code",
   "execution_count": 4,
   "id": "4954343d-1560-4b8d-be71-cce02dcfacd7",
   "metadata": {},
   "outputs": [
    {
     "data": {
      "text/plain": [
       "array([236897.8 , 251377.59, 201145.55, 218671.85, 191391.77, 199814.71,\n",
       "       247198.87, 245530.06, 248718.95, 208679.17, 210594.11, 191790.61,\n",
       "       227320.38, 235495.07, 256547.42, 222616.84, 221597.55, 245077.58,\n",
       "       214175.79, 253514.11, 213867.3 , 253773.43, 222782.75, 205751.03,\n",
       "       199281.34, 239553.16, 244135.98, 227864.55, 282645.56, 253032.06,\n",
       "       215641.28, 252701.92, 229219.61, 203057.49, 257693.92, 185047.44,\n",
       "       227056.21, 151283.14, 165947.93, 182982.09, 218546.05, 184710.77,\n",
       "       196189.63, 227382.3 , 254806.14, 224153.04, 215816.21, 235426.92,\n",
       "       151743.15, 216983.8 ])"
      ]
     },
     "execution_count": 4,
     "metadata": {},
     "output_type": "execute_result"
    }
   ],
   "source": [
    "comp[\"Management_Exp\"].unique()"
   ]
  },
  {
   "cell_type": "markdown",
   "id": "b212d039-f7dc-45aa-8e73-aa7f06a62eac",
   "metadata": {},
   "source": [
    "#### The Management_Exp column is a Continuous Numerical Data."
   ]
  },
  {
   "cell_type": "code",
   "execution_count": 5,
   "id": "af694360-5673-45bb-b969-ade1d278a66a",
   "metadata": {},
   "outputs": [
    {
     "data": {
      "text/plain": [
       "array([521784.1 , 493898.53, 457934.54, 433199.62, 416168.42, 412861.36,\n",
       "       177716.82, 373876.68, 361613.29, 354981.62, 279160.95, 299744.55,\n",
       "       299839.44, 302664.93, 306512.92, 311776.23, 314346.06, 332574.31,\n",
       "       344919.57,  50000.  , 348664.47, 349737.29, 353319.26, 354768.73,\n",
       "       190574.81, 187962.62, 184050.07, 403183.81, 168148.2 , 157138.38,\n",
       "       141131.24, 138218.23,  96085.25, 264634.81, 260797.67, 255517.64,\n",
       "       251126.82, 247029.42, 235265.1 , 224999.3 , 222795.67, 214470.71,\n",
       "       198001.11,  85534.17,  78334.72,  51903.93, 347114.46,  95173.06])"
      ]
     },
     "execution_count": 5,
     "metadata": {},
     "output_type": "execute_result"
    }
   ],
   "source": [
    "comp[\"Promotions_Exp\"].unique()"
   ]
  },
  {
   "cell_type": "markdown",
   "id": "ff26674b-886b-4e2b-ac15-3bea711b674b",
   "metadata": {},
   "source": [
    "#### The Promotions_Exp column is a Continuous Numerical Data."
   ]
  },
  {
   "cell_type": "code",
   "execution_count": 7,
   "id": "12b7802b-efc5-47f4-ab21-1da3ff7b91cd",
   "metadata": {},
   "outputs": [
    {
     "data": {
      "text/plain": [
       "array(['Texas', 'Illinois', 'Washington'], dtype=object)"
      ]
     },
     "execution_count": 7,
     "metadata": {},
     "output_type": "execute_result"
    }
   ],
   "source": [
    "comp[\"State\"].unique()"
   ]
  },
  {
   "cell_type": "markdown",
   "id": "3455dbc8-1b41-42ae-a7d3-bcc5b1a48e44",
   "metadata": {},
   "source": [
    "#### The State column is a Categorical Data."
   ]
  },
  {
   "cell_type": "code",
   "execution_count": 8,
   "id": "23ab7721-827d-4ed3-b82d-a750d15a360f",
   "metadata": {},
   "outputs": [
    {
     "data": {
      "text/plain": [
       "array([242261.83, 241792.06, 241050.39, 232901.99, 216187.94, 206991.12,\n",
       "       206122.51, 205752.6 , 202211.77, 199759.96, 196121.95, 194259.4 ,\n",
       "       191585.52, 184307.35, 182602.65, 179917.04, 176992.93, 175370.37,\n",
       "       174266.9 , 172776.86, 168474.03, 161313.02, 160352.25, 158733.99,\n",
       "       158552.04, 157404.34, 155733.54, 155008.31, 153282.38, 151004.64,\n",
       "       149937.59, 147483.56, 147427.84, 146778.92, 146712.8 , 146479.51,\n",
       "       140708.19, 139949.14, 131229.06, 131005.76, 128239.91, 127798.83,\n",
       "       121498.49, 119758.98, 115200.33, 114926.08,  99490.75,  92559.73,\n",
       "        85673.41,  64681.4 ])"
      ]
     },
     "execution_count": 8,
     "metadata": {},
     "output_type": "execute_result"
    }
   ],
   "source": [
    "comp[\"Profit\"].unique()"
   ]
  },
  {
   "cell_type": "markdown",
   "id": "c0067ec4-6629-4d1f-bfe5-7b8d53d8c2df",
   "metadata": {},
   "source": [
    "#### The Profit column is a Continuous Numerical Data."
   ]
  },
  {
   "cell_type": "markdown",
   "id": "db476cf1-65e9-489d-8541-f3ff82a78132",
   "metadata": {},
   "source": [
    "## Asking Questions to data"
   ]
  },
  {
   "cell_type": "raw",
   "id": "bf54fac1-edda-44f2-bf32-043c4762f269",
   "metadata": {},
   "source": [
    "1. What is the total production expenditure across all states in the dataset?\n",
    "2. Which state has the highest average production expenditure?\n",
    "3. What is the average profit-to-expenditure ratio for each state?\n",
    "4. Which state shows the highest return on investment (ROI) based on profits and total expenditure?\n",
    "5. Are there any outliers in the promotion expenditure column? If so, which state do they belong to?\n",
    "6. How does production expenditure vary over time within each state?\n",
    "7. Can we identify any trends in promotion expenditure over the years for each state?\n",
    "8. How does the profitability of companies vary across different states?\n",
    "9. What is the average profit-to-expenditure ratio for each state?\n",
    "10. How does management expenditure correlate with profits in each state?\n",
    "11. Is there any correlation between production expenditure and promotion expenditure?\n",
    "12. Can we predict profits based on the expenditure data using regression analysis?\n",
    "13. Does Mean Error presence is necessary in the dataset. If not, What is it's value?\n",
    "14. What correlation may occur in between Production Expenditure and Profits?\n",
    "15. Show the average difference between values predicted by a model and the actual values?"
   ]
  },
  {
   "cell_type": "markdown",
   "id": "8c725aa6-5c65-4813-8472-a6903c0d915c",
   "metadata": {},
   "source": [
    "## Pre-Processing of Data :"
   ]
  },
  {
   "cell_type": "code",
   "execution_count": 37,
   "id": "2f964109-1887-40b7-a19d-a213748f2a29",
   "metadata": {},
   "outputs": [],
   "source": [
    "def scaler(col):\n",
    "    min_val = col.min()\n",
    "    max_val = col.max()\n",
    "    res = (col - min_val)/(max_val - min_val)\n",
    "    return res\n",
    "comp[\"scaler_Productivity_Exp\"] = scaler(comp[\"Productivity_Exp\"])\n",
    "comp[\"scaler_Management_Exp\"] = scaler(comp[\"Management_Exp\"])"
   ]
  },
  {
   "cell_type": "code",
   "execution_count": 21,
   "id": "b4b97803-75b6-454f-954d-daa39d30d57a",
   "metadata": {},
   "outputs": [],
   "source": [
    "def scaler(col):\n",
    "    min_val = col.min()\n",
    "    max_val = col.max()\n",
    "    res = (col - min_val)/(max_val - min_val)\n",
    "    return res\n",
    "comp[\"scaler_Promotions_Exp\"] = scaler(comp[\"Promotions_Exp\"])\n",
    "comp[\"scaler_Profit\"] = scaler(comp[\"Profit\"])"
   ]
  },
  {
   "cell_type": "code",
   "execution_count": 29,
   "id": "448b4a5b-bde0-4d9f-93a1-b3bfd011723d",
   "metadata": {},
   "outputs": [],
   "source": [
    "class_mapping = {\"Texas\":1,\"Illinois\":2,\"Washington\":3}\n",
    "comp[\"State_encoded\"] = comp[\"State\"].map(class_mapping)"
   ]
  },
  {
   "cell_type": "code",
   "execution_count": 39,
   "id": "36d3ae05-e884-4048-afa5-619d322ca10a",
   "metadata": {},
   "outputs": [
    {
     "data": {
      "text/html": [
       "<div>\n",
       "<style scoped>\n",
       "    .dataframe tbody tr th:only-of-type {\n",
       "        vertical-align: middle;\n",
       "    }\n",
       "\n",
       "    .dataframe tbody tr th {\n",
       "        vertical-align: top;\n",
       "    }\n",
       "\n",
       "    .dataframe thead th {\n",
       "        text-align: right;\n",
       "    }\n",
       "</style>\n",
       "<table border=\"1\" class=\"dataframe\">\n",
       "  <thead>\n",
       "    <tr style=\"text-align: right;\">\n",
       "      <th></th>\n",
       "      <th>scaler_Productivity_Exp</th>\n",
       "      <th>scaler_Management_Exp</th>\n",
       "      <th>scaler_Promotions_Exp</th>\n",
       "      <th>State_encoded</th>\n",
       "      <th>scaler_Profit</th>\n",
       "    </tr>\n",
       "  </thead>\n",
       "  <tbody>\n",
       "    <tr>\n",
       "      <th>0</th>\n",
       "      <td>1.000000</td>\n",
       "      <td>0.651744</td>\n",
       "      <td>1.000000</td>\n",
       "      <td>1</td>\n",
       "      <td>1.000000</td>\n",
       "    </tr>\n",
       "    <tr>\n",
       "      <th>1</th>\n",
       "      <td>0.983359</td>\n",
       "      <td>0.761972</td>\n",
       "      <td>0.940893</td>\n",
       "      <td>2</td>\n",
       "      <td>0.997355</td>\n",
       "    </tr>\n",
       "    <tr>\n",
       "      <th>2</th>\n",
       "      <td>0.927985</td>\n",
       "      <td>0.379579</td>\n",
       "      <td>0.864664</td>\n",
       "      <td>3</td>\n",
       "      <td>0.993178</td>\n",
       "    </tr>\n",
       "    <tr>\n",
       "      <th>3</th>\n",
       "      <td>0.873136</td>\n",
       "      <td>0.512998</td>\n",
       "      <td>0.812235</td>\n",
       "      <td>1</td>\n",
       "      <td>0.947292</td>\n",
       "    </tr>\n",
       "    <tr>\n",
       "      <th>4</th>\n",
       "      <td>0.859438</td>\n",
       "      <td>0.305328</td>\n",
       "      <td>0.776136</td>\n",
       "      <td>3</td>\n",
       "      <td>0.853171</td>\n",
       "    </tr>\n",
       "  </tbody>\n",
       "</table>\n",
       "</div>"
      ],
      "text/plain": [
       "   scaler_Productivity_Exp  scaler_Management_Exp  scaler_Promotions_Exp  \\\n",
       "0                 1.000000               0.651744               1.000000   \n",
       "1                 0.983359               0.761972               0.940893   \n",
       "2                 0.927985               0.379579               0.864664   \n",
       "3                 0.873136               0.512998               0.812235   \n",
       "4                 0.859438               0.305328               0.776136   \n",
       "\n",
       "   State_encoded  scaler_Profit  \n",
       "0              1       1.000000  \n",
       "1              2       0.997355  \n",
       "2              3       0.993178  \n",
       "3              1       0.947292  \n",
       "4              3       0.853171  "
      ]
     },
     "execution_count": 39,
     "metadata": {},
     "output_type": "execute_result"
    }
   ],
   "source": [
    "company = comp[[\"scaler_Productivity_Exp\",\"scaler_Management_Exp\",\"scaler_Promotions_Exp\",\"State_encoded\",\"scaler_Profit\"]]\n",
    "company.head()"
   ]
  },
  {
   "cell_type": "markdown",
   "id": "93900b88-ae3f-44b3-8ec2-37d50384af5f",
   "metadata": {},
   "source": [
    "#### The above Dataset is a Processed Data."
   ]
  },
  {
   "cell_type": "code",
   "execution_count": 41,
   "id": "7a1d4168-321f-48d0-90f5-cb23da5b9b5c",
   "metadata": {},
   "outputs": [
    {
     "data": {
      "text/plain": [
       "22.29270404695033"
      ]
     },
     "execution_count": 41,
     "metadata": {},
     "output_type": "execute_result"
    }
   ],
   "source": [
    "# Q1 \n",
    "company[\"scaler_Productivity_Exp\"].sum()"
   ]
  },
  {
   "cell_type": "code",
   "execution_count": 174,
   "id": "1615384f-3823-4a60-a42c-558fdf7ca604",
   "metadata": {},
   "outputs": [
    {
     "data": {
      "text/plain": [
       "0.5242303656481853"
      ]
     },
     "execution_count": 174,
     "metadata": {},
     "output_type": "execute_result"
    }
   ],
   "source": [
    "# Q2\n",
    "grouped = company.groupby('State_encoded')['scaler_Promotions_Exp'].mean()\n",
    "grouped.max()"
   ]
  },
  {
   "cell_type": "code",
   "execution_count": 173,
   "id": "3b5fb058-0a52-40ad-b10e-eb4f332daad3",
   "metadata": {},
   "outputs": [
    {
     "data": {
      "text/plain": [
       "State_encoded\n",
       "1    1.406560\n",
       "2    0.373581\n",
       "3    0.377737\n",
       "Name: Profit_to_Expenditure_Ratio, dtype: float64"
      ]
     },
     "execution_count": 173,
     "metadata": {},
     "output_type": "execute_result"
    }
   ],
   "source": [
    "# Q3\n",
    "company['Total_Expenditure'] = company['scaler_Productivity_Exp'] + company['scaler_Management_Exp'] + company['scaler_Promotions_Exp']\n",
    "\n",
    "# Calculate profit-to-expenditure ratio\n",
    "company['Profit_to_Expenditure_Ratio'] = company['scaler_Profit'] / company['Total_Expenditure']\n",
    "\n",
    "# Group by state and calculate the average profit-to-expenditure ratio\n",
    "avg_ratio= company.groupby('State_encoded')['Profit_to_Expenditure_Ratio'].mean()\n",
    "avg_ratio"
   ]
  },
  {
   "cell_type": "code",
   "execution_count": 176,
   "id": "3c007840-c12b-47b3-bfc6-14bb034fa832",
   "metadata": {},
   "outputs": [
    {
     "data": {
      "text/plain": [
       "0.40655999278724536"
      ]
     },
     "execution_count": 176,
     "metadata": {},
     "output_type": "execute_result"
    }
   ],
   "source": [
    "# Q4\n",
    "# Calculate ROI\n",
    "company['ROI'] = (company['scaler_Profit'] - company['Total_Expenditure']) / company['Total_Expenditure']\n",
    "# Group by state and calculate mean ROI\n",
    "mean_roi_by_state = company.groupby('State_encoded')['ROI'].mean()\n",
    "mean_roi_by_state.max()"
   ]
  },
  {
   "cell_type": "code",
   "execution_count": 171,
   "id": "846f760b-ed12-4f37-a60b-1e04620ea948",
   "metadata": {},
   "outputs": [
    {
     "data": {
      "text/plain": [
       "<Figure size 1000x600 with 0 Axes>"
      ]
     },
     "metadata": {},
     "output_type": "display_data"
    },
    {
     "data": {
      "image/png": "[encoded data removed]",
      "text/plain": [
       "<Figure size 640x480 with 1 Axes>"
      ]
     },
     "metadata": {},
     "output_type": "display_data"
    }
   ],
   "source": [
    "# Q5\n",
    "plt.figure(figsize=(10, 6))\n",
    "boxplot = company.boxplot(column='scaler_Promotions_Exp', by='State_encoded', grid=False)\n",
    "plt.title('Boxplot of Promotion Expenditures by State')\n",
    "plt.suptitle('')\n",
    "plt.xlabel('State')\n",
    "plt.ylabel('Promotion Expenditure')\n",
    "plt.show()"
   ]
  },
  {
   "cell_type": "code",
   "execution_count": 170,
   "id": "542dc7ad-fe82-4059-baa9-3127d36c84ec",
   "metadata": {},
   "outputs": [
    {
     "data": {
      "text/plain": [
       "<Axes: xlabel='State_encoded', ylabel='scaler_Productivity_Exp'>"
      ]
     },
     "execution_count": 170,
     "metadata": {},
     "output_type": "execute_result"
    },
    {
     "data": {
      "image/png": "[encoded data removed]",
      "text/plain": [
       "<Figure size 640x480 with 1 Axes>"
      ]
     },
     "metadata": {},
     "output_type": "display_data"
    }
   ],
   "source": [
    "# Q6\n",
    "sb.lineplot(data=company,x=\"State_encoded\",y=\"scaler_Productivity_Exp\")"
   ]
  },
  {
   "cell_type": "code",
   "execution_count": 169,
   "id": "8d1ca9a3-ff0d-47a6-93ad-a4b4e1986791",
   "metadata": {},
   "outputs": [
    {
     "data": {
      "text/plain": [
       "<Axes: xlabel='State_encoded', ylabel='scaler_Promotions_Exp'>"
      ]
     },
     "execution_count": 169,
     "metadata": {},
     "output_type": "execute_result"
    },
    {
     "data": {
      "image/png": "[encoded data removed]",
      "text/plain": [
       "<Figure size 640x480 with 1 Axes>"
      ]
     },
     "metadata": {},
     "output_type": "display_data"
    }
   ],
   "source": [
    "# Q7\n",
    "sb.violinplot(data=company,x=\"State_encoded\",y=\"scaler_Promotions_Exp\")"
   ]
  },
  {
   "cell_type": "code",
   "execution_count": 168,
   "id": "46d9a260-5eb4-4ca3-9f7a-da24a861f117",
   "metadata": {},
   "outputs": [
    {
     "data": {
      "text/plain": [
       "Text(0.5, 0, 'State')"
      ]
     },
     "execution_count": 168,
     "metadata": {},
     "output_type": "execute_result"
    },
    {
     "data": {
      "image/png": "[encoded data removed]",
      "text/plain": [
       "<Figure size 1000x600 with 1 Axes>"
      ]
     },
     "metadata": {},
     "output_type": "display_data"
    }
   ],
   "source": [
    "# Q8\n",
    "average_profits = company.groupby('State_encoded')['scaler_Profit'].mean().reset_index()\n",
    "plt.figure(figsize=(10, 6))\n",
    "sb.barplot(data=average_profits, x='State_encoded', y='scaler_Profit', palette='viridis')\n",
    "plt.title('Average Profits Across Different States')\n",
    "plt.xlabel('State')"
   ]
  },
  {
   "cell_type": "code",
   "execution_count": 167,
   "id": "33a51802-9d35-4fce-9257-0431d00b740e",
   "metadata": {},
   "outputs": [
    {
     "data": {
      "text/plain": [
       "<Axes: xlabel='State_encoded', ylabel='scaler_Productivity_Exp'>"
      ]
     },
     "execution_count": 167,
     "metadata": {},
     "output_type": "execute_result"
    },
    {
     "data": {
      "image/png": "[encoded data removed]",
      "text/plain": [
       "<Figure size 640x480 with 1 Axes>"
      ]
     },
     "metadata": {},
     "output_type": "display_data"
    }
   ],
   "source": [
    "# Q9\n",
    "sb.barplot(data=company,x=\"State_encoded\",y=\"scaler_Productivity_Exp\")"
   ]
  },
  {
   "cell_type": "code",
   "execution_count": 177,
   "id": "37839af5-98d2-4357-baab-9b71ad69e0e2",
   "metadata": {},
   "outputs": [
    {
     "data": {
      "text/html": [
       "<div>\n",
       "<style scoped>\n",
       "    .dataframe tbody tr th:only-of-type {\n",
       "        vertical-align: middle;\n",
       "    }\n",
       "\n",
       "    .dataframe tbody tr th {\n",
       "        vertical-align: top;\n",
       "    }\n",
       "\n",
       "    .dataframe thead th {\n",
       "        text-align: right;\n",
       "    }\n",
       "</style>\n",
       "<table border=\"1\" class=\"dataframe\">\n",
       "  <thead>\n",
       "    <tr style=\"text-align: right;\">\n",
       "      <th></th>\n",
       "      <th>scaler_Management_Exp</th>\n",
       "      <th>scaler_Profit</th>\n",
       "    </tr>\n",
       "  </thead>\n",
       "  <tbody>\n",
       "    <tr>\n",
       "      <th>scaler_Management_Exp</th>\n",
       "      <td>1.000000</td>\n",
       "      <td>0.200717</td>\n",
       "    </tr>\n",
       "    <tr>\n",
       "      <th>scaler_Profit</th>\n",
       "      <td>0.200717</td>\n",
       "      <td>1.000000</td>\n",
       "    </tr>\n",
       "  </tbody>\n",
       "</table>\n",
       "</div>"
      ],
      "text/plain": [
       "                       scaler_Management_Exp  scaler_Profit\n",
       "scaler_Management_Exp               1.000000       0.200717\n",
       "scaler_Profit                       0.200717       1.000000"
      ]
     },
     "execution_count": 177,
     "metadata": {},
     "output_type": "execute_result"
    }
   ],
   "source": [
    "# Q10\n",
    "company[[\"scaler_Management_Exp\",\"scaler_Profit\"]].corr()"
   ]
  },
  {
   "cell_type": "code",
   "execution_count": 178,
   "id": "5e91324a-dae8-4b67-b891-c6271c256ce8",
   "metadata": {},
   "outputs": [
    {
     "data": {
      "text/html": [
       "<div>\n",
       "<style scoped>\n",
       "    .dataframe tbody tr th:only-of-type {\n",
       "        vertical-align: middle;\n",
       "    }\n",
       "\n",
       "    .dataframe tbody tr th {\n",
       "        vertical-align: top;\n",
       "    }\n",
       "\n",
       "    .dataframe thead th {\n",
       "        text-align: right;\n",
       "    }\n",
       "</style>\n",
       "<table border=\"1\" class=\"dataframe\">\n",
       "  <thead>\n",
       "    <tr style=\"text-align: right;\">\n",
       "      <th></th>\n",
       "      <th>scaler_Productivity_Exp</th>\n",
       "      <th>scaler_Promotions_Exp</th>\n",
       "    </tr>\n",
       "  </thead>\n",
       "  <tbody>\n",
       "    <tr>\n",
       "      <th>scaler_Productivity_Exp</th>\n",
       "      <td>1.000000</td>\n",
       "      <td>0.724248</td>\n",
       "    </tr>\n",
       "    <tr>\n",
       "      <th>scaler_Promotions_Exp</th>\n",
       "      <td>0.724248</td>\n",
       "      <td>1.000000</td>\n",
       "    </tr>\n",
       "  </tbody>\n",
       "</table>\n",
       "</div>"
      ],
      "text/plain": [
       "                         scaler_Productivity_Exp  scaler_Promotions_Exp\n",
       "scaler_Productivity_Exp                 1.000000               0.724248\n",
       "scaler_Promotions_Exp                   0.724248               1.000000"
      ]
     },
     "execution_count": 178,
     "metadata": {},
     "output_type": "execute_result"
    }
   ],
   "source": [
    "# Q11\n",
    "company[[\"scaler_Productivity_Exp\",\"scaler_Promotions_Exp\"]].corr()"
   ]
  },
  {
   "cell_type": "code",
   "execution_count": 133,
   "id": "e3851ff1-30c1-4ac9-8df8-c7ae65187635",
   "metadata": {},
   "outputs": [],
   "source": [
    "from sklearn.model_selection import train_test_split\n",
    "from sklearn.linear_model import LinearRegression\n",
    "from sklearn.metrics import mean_squared_error\n",
    "from sklearn.metrics import accuracy_score"
   ]
  },
  {
   "cell_type": "code",
   "execution_count": 159,
   "id": "49e7ae72-9f8a-4d78-a327-6b72f49d2edf",
   "metadata": {},
   "outputs": [],
   "source": [
    "# Q12\n",
    "X = company[['scaler_Productivity_Exp', 'scaler_Management_Exp', 'scaler_Promotions_Exp']]\n",
    "y = company['scaler_Profit']\n",
    "\n",
    "# Splitting the data into training and testing sets\n",
    "X_train, X_test, y_train, y_test = train_test_split(X, y, test_size=0.2, random_state=42)\n",
    "\n",
    "# Building the regression model\n",
    "model = LinearRegression()\n",
    "\n",
    "# Training the model\n",
    "model.fit(X_train, y_train)\n",
    "\n",
    "# Making predictions\n",
    "y_pred = model.predict(X_test)"
   ]
  },
  {
   "cell_type": "code",
   "execution_count": 132,
   "id": "a138f46d-1bbd-4ada-87b9-f881e962b828",
   "metadata": {},
   "outputs": [
    {
     "data": {
      "text/html": [
       "<div>\n",
       "<style scoped>\n",
       "    .dataframe tbody tr th:only-of-type {\n",
       "        vertical-align: middle;\n",
       "    }\n",
       "\n",
       "    .dataframe tbody tr th {\n",
       "        vertical-align: top;\n",
       "    }\n",
       "\n",
       "    .dataframe thead th {\n",
       "        text-align: right;\n",
       "    }\n",
       "</style>\n",
       "<table border=\"1\" class=\"dataframe\">\n",
       "  <thead>\n",
       "    <tr style=\"text-align: right;\">\n",
       "      <th></th>\n",
       "      <th>scaler_Productivity_Exp</th>\n",
       "      <th>scaler_Management_Exp</th>\n",
       "      <th>scaler_Promotions_Exp</th>\n",
       "    </tr>\n",
       "  </thead>\n",
       "  <tbody>\n",
       "    <tr>\n",
       "      <th>13</th>\n",
       "      <td>0.556352</td>\n",
       "      <td>0.641066</td>\n",
       "      <td>0.535552</td>\n",
       "    </tr>\n",
       "    <tr>\n",
       "      <th>39</th>\n",
       "      <td>0.233194</td>\n",
       "      <td>0.241309</td>\n",
       "      <td>0.370931</td>\n",
       "    </tr>\n",
       "    <tr>\n",
       "      <th>30</th>\n",
       "      <td>0.374931</td>\n",
       "      <td>0.489928</td>\n",
       "      <td>0.193163</td>\n",
       "    </tr>\n",
       "  </tbody>\n",
       "</table>\n",
       "</div>"
      ],
      "text/plain": [
       "    scaler_Productivity_Exp  scaler_Management_Exp  scaler_Promotions_Exp\n",
       "13                 0.556352               0.641066               0.535552\n",
       "39                 0.233194               0.241309               0.370931\n",
       "30                 0.374931               0.489928               0.193163"
      ]
     },
     "execution_count": 132,
     "metadata": {},
     "output_type": "execute_result"
    }
   ],
   "source": [
    "X_test.head(3)"
   ]
  },
  {
   "cell_type": "code",
   "execution_count": 121,
   "id": "05282dc2-eb72-4abf-a4ae-358fa9f2a118",
   "metadata": {},
   "outputs": [
    {
     "data": {
      "text/plain": [
       "array([0.4742193])"
      ]
     },
     "execution_count": 121,
     "metadata": {},
     "output_type": "execute_result"
    }
   ],
   "source": [
    "model.predict([[0.374931,0.489928,0.193163]]) "
   ]
  },
  {
   "cell_type": "code",
   "execution_count": 123,
   "id": "f1b17abb-6b29-4d61-aab8-38ab891de2aa",
   "metadata": {},
   "outputs": [
    {
     "data": {
      "text/plain": [
       "array([0.55425477])"
      ]
     },
     "execution_count": 123,
     "metadata": {},
     "output_type": "execute_result"
    }
   ],
   "source": [
    "model.predict([[0.522650,0.778236,0.000000]]) "
   ]
  },
  {
   "cell_type": "code",
   "execution_count": 179,
   "id": "a4dd087b-875c-4e8b-b799-f11f0af9f177",
   "metadata": {},
   "outputs": [
    {
     "name": "stdout",
     "output_type": "stream",
     "text": [
      "Mean Squared Error: 0.0025662537203763047\n"
     ]
    }
   ],
   "source": [
    "# Q13\n",
    "mse = mean_squared_error(y_test, y_pred)\n",
    "print(f\"Mean Squared Error: {mse}\")"
   ]
  },
  {
   "cell_type": "code",
   "execution_count": 180,
   "id": "eb8b1adf-8019-4707-813c-ad61c973c76a",
   "metadata": {},
   "outputs": [
    {
     "data": {
      "text/html": [
       "<div>\n",
       "<style scoped>\n",
       "    .dataframe tbody tr th:only-of-type {\n",
       "        vertical-align: middle;\n",
       "    }\n",
       "\n",
       "    .dataframe tbody tr th {\n",
       "        vertical-align: top;\n",
       "    }\n",
       "\n",
       "    .dataframe thead th {\n",
       "        text-align: right;\n",
       "    }\n",
       "</style>\n",
       "<table border=\"1\" class=\"dataframe\">\n",
       "  <thead>\n",
       "    <tr style=\"text-align: right;\">\n",
       "      <th></th>\n",
       "      <th>scaler_Productivity_Exp</th>\n",
       "      <th>scaler_Profit</th>\n",
       "    </tr>\n",
       "  </thead>\n",
       "  <tbody>\n",
       "    <tr>\n",
       "      <th>scaler_Productivity_Exp</th>\n",
       "      <td>1.0000</td>\n",
       "      <td>0.9729</td>\n",
       "    </tr>\n",
       "    <tr>\n",
       "      <th>scaler_Profit</th>\n",
       "      <td>0.9729</td>\n",
       "      <td>1.0000</td>\n",
       "    </tr>\n",
       "  </tbody>\n",
       "</table>\n",
       "</div>"
      ],
      "text/plain": [
       "                         scaler_Productivity_Exp  scaler_Profit\n",
       "scaler_Productivity_Exp                   1.0000         0.9729\n",
       "scaler_Profit                             0.9729         1.0000"
      ]
     },
     "execution_count": 180,
     "metadata": {},
     "output_type": "execute_result"
    }
   ],
   "source": [
    "# Q14\n",
    "company[[\"scaler_Productivity_Exp\",\"scaler_Profit\"]].corr()"
   ]
  },
  {
   "cell_type": "code",
   "execution_count": 165,
   "id": "a0feb767-da80-4a4f-9a94-c85f5fa0c162",
   "metadata": {},
   "outputs": [
    {
     "data": {
      "text/html": [
       "<div>\n",
       "<style scoped>\n",
       "    .dataframe tbody tr th:only-of-type {\n",
       "        vertical-align: middle;\n",
       "    }\n",
       "\n",
       "    .dataframe tbody tr th {\n",
       "        vertical-align: top;\n",
       "    }\n",
       "\n",
       "    .dataframe thead th {\n",
       "        text-align: right;\n",
       "    }\n",
       "</style>\n",
       "<table border=\"1\" class=\"dataframe\">\n",
       "  <thead>\n",
       "    <tr style=\"text-align: right;\">\n",
       "      <th></th>\n",
       "      <th>Actual(y_test)</th>\n",
       "      <th>Prediction(y_pred)</th>\n",
       "    </tr>\n",
       "  </thead>\n",
       "  <tbody>\n",
       "    <tr>\n",
       "      <th>13</th>\n",
       "      <td>0.673644</td>\n",
       "      <td>0.630822</td>\n",
       "    </tr>\n",
       "    <tr>\n",
       "      <th>39</th>\n",
       "      <td>0.373489</td>\n",
       "      <td>0.395389</td>\n",
       "    </tr>\n",
       "    <tr>\n",
       "      <th>30</th>\n",
       "      <td>0.480099</td>\n",
       "      <td>0.474219</td>\n",
       "    </tr>\n",
       "    <tr>\n",
       "      <th>45</th>\n",
       "      <td>0.282940</td>\n",
       "      <td>0.179188</td>\n",
       "    </tr>\n",
       "    <tr>\n",
       "      <th>17</th>\n",
       "      <td>0.623317</td>\n",
       "      <td>0.644480</td>\n",
       "    </tr>\n",
       "    <tr>\n",
       "      <th>48</th>\n",
       "      <td>0.118211</td>\n",
       "      <td>0.204478</td>\n",
       "    </tr>\n",
       "    <tr>\n",
       "      <th>26</th>\n",
       "      <td>0.512737</td>\n",
       "      <td>0.531225</td>\n",
       "    </tr>\n",
       "    <tr>\n",
       "      <th>25</th>\n",
       "      <td>0.522146</td>\n",
       "      <td>0.485397</td>\n",
       "    </tr>\n",
       "    <tr>\n",
       "      <th>32</th>\n",
       "      <td>0.465966</td>\n",
       "      <td>0.467502</td>\n",
       "    </tr>\n",
       "    <tr>\n",
       "      <th>19</th>\n",
       "      <td>0.608713</td>\n",
       "      <td>0.554255</td>\n",
       "    </tr>\n",
       "  </tbody>\n",
       "</table>\n",
       "</div>"
      ],
      "text/plain": [
       "    Actual(y_test)  Prediction(y_pred)\n",
       "13        0.673644            0.630822\n",
       "39        0.373489            0.395389\n",
       "30        0.480099            0.474219\n",
       "45        0.282940            0.179188\n",
       "17        0.623317            0.644480\n",
       "48        0.118211            0.204478\n",
       "26        0.512737            0.531225\n",
       "25        0.522146            0.485397\n",
       "32        0.465966            0.467502\n",
       "19        0.608713            0.554255"
      ]
     },
     "execution_count": 165,
     "metadata": {},
     "output_type": "execute_result"
    }
   ],
   "source": [
    "# Q15\n",
    "data_rsme = {'Actual(y_test)':y_test,'Prediction(y_pred)':y_pred}\n",
    "df_rsme = pd.DataFrame(data_rsme)\n",
    "df_rsme"
   ]
  },
  {
   "cell_type": "markdown",
   "id": "8643a9c4-dd57-48bb-a222-832c7d083aba",
   "metadata": {},
   "source": [
    "## Report on Company Dataset :"
   ]
  },
  {
   "cell_type": "code",
   "execution_count": null,
   "id": "57b96667-6914-4e41-b788-65440f1e9990",
   "metadata": {},
   "outputs": [],
   "source": [
    "Q1:\n",
    "The total production expenditure across all states is 22.29270404695033.\n",
    "Q2:\n",
    "The State with highest average production expenditure is Washington.\n",
    "Q3:\n",
    "The average profit-to-expenditure ratio for each state will be 1.406560 : Texas, 0.373581 : Illinois and 0.377737 : Washington.\n",
    "Q4:\n",
    "The State with highest return on investment (ROI) based on profits and total expenditure is Texas.\n",
    "Q5:\n",
    "Yes, their is an outliers in the promotion expenditure column and it is in Illinois state.\n",
    "Q6:\n",
    "Production Expenditure vary over time within each state as follows, from texas to illinios it gradually decreases and from  illinios to washington it\n",
    "gradually increases.\n",
    "Q7:\n",
    "The Promotion Expenditure keep on decreasing over the years in all the three states.\n",
    "Q8:\n",
    "The Profitability of company vary across different states like as follows, texas : 55%, illinios : 48% and washington : 58%.\n",
    "Q9:\n",
    "The states with max Productivity wil be like Texas : ~45%, Illinios : 38% and Washington : 52%.\n",
    "Q10:\n",
    "There is a Weak Co-relation between Management Expenditure and Profits.\n",
    "Q11:\n",
    "There is a Strong Co-relation between Production Expenditure and Promotion Expenditrue.\n",
    "Q12:\n",
    "Predicting the profits of [Production, Management, Promotion : 0.522650,0.778236,0.000000], and it is 0.55425477.\n",
    "Q13:\n",
    "The MSE[Mean Square Error] will be 0.0025662537203763047.\n",
    "Q14\n",
    "There is a Strong Co-relation between Production Expenditure and Profits.\n",
    "Q15:\n",
    "The average difference between values predicted by a model and the actual values are vary near by values."
   ]
  }
 ],
 "metadata": {
  "kernelspec": {
   "display_name": "Python 3 (ipykernel)",
   "language": "python",
   "name": "python3"
  },
  "language_info": {
   "codemirror_mode": {
    "name": "ipython",
    "version": 3
   },
   "file_extension": ".py",
   "mimetype": "text/x-python",
   "name": "python",
   "nbconvert_exporter": "python",
   "pygments_lexer": "ipython3",
   "version": "3.11.7"
  }
 },
 "nbformat": 4,
 "nbformat_minor": 5
}
